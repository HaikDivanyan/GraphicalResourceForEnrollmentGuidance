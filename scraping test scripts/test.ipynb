{
 "cells": [
  {
   "cell_type": "code",
   "execution_count": 2,
   "metadata": {},
   "outputs": [],
   "source": [
    "from bs4 import BeautifulSoup\n",
    "import re"
   ]
  },
  {
   "cell_type": "code",
   "execution_count": 22,
   "metadata": {},
   "outputs": [],
   "source": [
    "with open(\"dar2.html\") as f:\n",
    "    dar = BeautifulSoup(f)\n",
    "with open(\"majors.txt\") as f:\n",
    "    majors = set(f.read().split(\",\"))"
   ]
  },
  {
   "cell_type": "code",
   "execution_count": 28,
   "metadata": {},
   "outputs": [],
   "source": [
    "requirements = {}\n",
    "l = []\n",
    "for reqHTML in dar.findAll(\"div\", \"Status_NO\"):\n",
    "    classes = []\n",
    "    reqname = re.sub('[ \\n]+', \" \", str(reqHTML.find(\"div\", \"reqTitle\").get_text()).strip())\n",
    "    requirements[reqname] = {}\n",
    "    for subreqHTML in reqHTML.findAll(\"div\", \"subrequirement\"):\n",
    "        statHTML = subreqHTML.find(\"span\", \"Status_NO\")\n",
    "        if (statHTML is not None):\n",
    "            subreqname = re.sub('[ \\n]+', \" \", str(subreqHTML.find(\"span\", \"subreqTitle\").get_text()).strip())\n",
    "            needsHTML = subreqHTML.find(\"table\", \"subreqNeeds\")\n",
    "            if (needsHTML is not None):\n",
    "                units, count = None, None\n",
    "                if (needsHTML.find(\"td\", \"hours\") is not None):\n",
    "                    units = int(float(str(needsHTML.find(\"td\", \"hours\").next)))\n",
    "                if (needsHTML.find(\"td\", \"count\") is not None):\n",
    "                    count = int(float(str(needsHTML.find(\"td\", \"count\").next)))\n",
    "\n",
    "                selectHTML = subreqHTML.find(\"table\", \"selectcourses\")\n",
    "                if (selectHTML is not None):\n",
    "                    ht = selectHTML.find(\"td\", \"fromcourselist\")\n",
    "                    a = re.sub('[ \\n]+', \" \", ht.get_text())\n",
    "                    requirements[reqname][subreqname] = {\"units\": units, \"count\":count, \"classes\":a}"
   ]
  },
  {
   "cell_type": "code",
   "execution_count": 25,
   "metadata": {},
   "outputs": [
    {
     "data": {
      "text/plain": [
       "{'FILM AND TELEVISION B.A.PREPARATION FOR THE MAJOR': {'SIX LOWER DIVISION FILM AND TELEVISION COURSES': {'units': None,\n",
       "   'count': 6,\n",
       "   'classes': ' FILM TV 4,6A,10A,33,51,84A '},\n",
       "  'ONE THEATER COURSE': {'units': None,\n",
       "   'count': 1,\n",
       "   'classes': ' THEATER 10,15,20,28A,28B,28C,30 '}},\n",
       " 'FILM AND TELEVISION B.A.REQUIREMENTS FOR THE MAJOR': {'FILM AND TELEVISION 101A': {'units': None,\n",
       "   'count': 1,\n",
       "   'classes': ' FILM TV 101A '},\n",
       "  'FILM AND TELEVISION 106B OR 106C': {'units': None,\n",
       "   'count': 1,\n",
       "   'classes': ' FILM TV 106B,106C '},\n",
       "  'FILM AND TELEVISION 134, 150, 154, 155, AND 163': {'units': None,\n",
       "   'count': 5,\n",
       "   'classes': ' FILM TV 134,150,154,155,163 '},\n",
       "  'ONE CINEMA AND MEDIA STUDIES ELECTIVE': {'units': None,\n",
       "   'count': 1,\n",
       "   'classes': ' FILM TV 107,108,109,M111,112,113,114,M117,122N '},\n",
       "  'ONE CAPSTONE DEPARTMENTALLY SPONSORED INTERNSHIPFILM AND TELEVISION 194 AND 195CE OR 195(195/195CE must be taken concurrently with 194)': {'units': None,\n",
       "   'count': 2,\n",
       "   'classes': ' FILM TV 194,195CE OR 195 '},\n",
       "  'ONE CAPSTONE DEPARTMENTALLY SPONSORED INTERNSHIPFILM AND TELEVISION 199 (FALL 2020 THRU SPRING 2022)': {'units': None,\n",
       "   'count': 1,\n",
       "   'classes': ' FILM TV 199(FA20-SP22) '}},\n",
       " 'FILM AND TELEVISION B.A.CONCENTRATION FOR THE MAJORTWENTY UNITS OF ADVANCED FILM COURSEWORK FROM ONE OR MOREAREAS OF STUDY, INCLUDING AT LEAST TWO COURSES SELECTEDFROM WITHIN ONE AREA:': {'TWO COURSES SELECTED FROM WITHIN ONE CONCENTRATION AREA': {'units': None,\n",
       "   'count': 2,\n",
       "   'classes': ' CINEMA&MEDIA : FILM TV 106B,106C,108,109,112,113,114,128 PRODUCTION : FILM TV C118,122D,C152C,153,C154B,C157,C158,175A,175B,C186A, FILM TV C186B,C186C SCREENWRITING : FILM TV 135A,135B,135C PRODUCING : FILM TV 146,C147,183A,183B,183C,184B ANIMATION : FILM TV C181A,C181B,C181C DIGITAL MEDIA : FILM TV C142,C144,C145,C148 '},\n",
       "  'ADDITIONAL CONCENTRATION AREA COURSES': {'units': 20,\n",
       "   'count': None,\n",
       "   'classes': ' CINEMA&MEDIA : FILM TV 106B,106C,108,109,112,113,114,128 PRODUCTION : FILM TV C118,122D,C152C,153,C154B,C157,C158,175A,175B,C186A, FILM TV C186B,C186C SCREENWRITING : FILM TV 135A,135B,135C PRODUCING : FILM TV 146,C147,183A,183B,183C,184B ANIMATION : FILM TV C181A,C181B,C181C DIGITAL MEDIA : FILM TV C142,C144,C145,C148 '}},\n",
       " 'MINIMUM 180 UC UNITS FOR A UCLA DEGREE': {}}"
      ]
     },
     "execution_count": 25,
     "metadata": {},
     "output_type": "execute_result"
    }
   ],
   "source": [
    "requirements"
   ]
  },
  {
   "cell_type": "code",
   "execution_count": 29,
   "metadata": {},
   "outputs": [
    {
     "ename": "KeyboardInterrupt",
     "evalue": "",
     "output_type": "error",
     "traceback": [
      "\u001b[1;31m---------------------------------------------------------------------------\u001b[0m",
      "\u001b[1;31mKeyboardInterrupt\u001b[0m                         Traceback (most recent call last)",
      "\u001b[1;32mc:\\Users\\Edan\\Desktop\\Code\\130\\GraphicalResourceForEnrollmentGuidance\\scraping test scripts\\test.ipynb Cell 5\u001b[0m line \u001b[0;36m<cell line: 1>\u001b[1;34m()\u001b[0m\n\u001b[0;32m      <a href='vscode-notebook-cell:/c%3A/Users/Edan/Desktop/Code/130/GraphicalResourceForEnrollmentGuidance/scraping%20test%20scripts/test.ipynb#W3sZmlsZQ%3D%3D?line=7'>8</a>\u001b[0m part \u001b[39m=\u001b[39m re\u001b[39m.\u001b[39msub(\u001b[39m\"\u001b[39m\u001b[39m(\u001b[39m\u001b[39m\\\u001b[39m\u001b[39m(.*\u001b[39m\u001b[39m\\\u001b[39m\u001b[39m))\u001b[39m\u001b[39m\"\u001b[39m, \u001b[39m\"\u001b[39m\u001b[39m\"\u001b[39m, part)\n\u001b[0;32m      <a href='vscode-notebook-cell:/c%3A/Users/Edan/Desktop/Code/130/GraphicalResourceForEnrollmentGuidance/scraping%20test%20scripts/test.ipynb#W3sZmlsZQ%3D%3D?line=8'>9</a>\u001b[0m \u001b[39mfor\u001b[39;00m major \u001b[39min\u001b[39;00m majors:\n\u001b[1;32m---> <a href='vscode-notebook-cell:/c%3A/Users/Edan/Desktop/Code/130/GraphicalResourceForEnrollmentGuidance/scraping%20test%20scripts/test.ipynb#W3sZmlsZQ%3D%3D?line=9'>10</a>\u001b[0m     \u001b[39mif\u001b[39;00m major \u001b[39min\u001b[39;00m part:\n\u001b[0;32m     <a href='vscode-notebook-cell:/c%3A/Users/Edan/Desktop/Code/130/GraphicalResourceForEnrollmentGuidance/scraping%20test%20scripts/test.ipynb#W3sZmlsZQ%3D%3D?line=10'>11</a>\u001b[0m         area \u001b[39m=\u001b[39m major\n\u001b[0;32m     <a href='vscode-notebook-cell:/c%3A/Users/Edan/Desktop/Code/130/GraphicalResourceForEnrollmentGuidance/scraping%20test%20scripts/test.ipynb#W3sZmlsZQ%3D%3D?line=11'>12</a>\u001b[0m         part \u001b[39m=\u001b[39m re\u001b[39m.\u001b[39msub(major, \u001b[39m\"\u001b[39m\u001b[39m\"\u001b[39m, part)\u001b[39m.\u001b[39mstrip()\n",
      "\u001b[1;32mc:\\Users\\Edan\\Desktop\\Code\\130\\GraphicalResourceForEnrollmentGuidance\\scraping test scripts\\test.ipynb Cell 5\u001b[0m line \u001b[0;36m<cell line: 1>\u001b[1;34m()\u001b[0m\n\u001b[0;32m      <a href='vscode-notebook-cell:/c%3A/Users/Edan/Desktop/Code/130/GraphicalResourceForEnrollmentGuidance/scraping%20test%20scripts/test.ipynb#W3sZmlsZQ%3D%3D?line=7'>8</a>\u001b[0m part \u001b[39m=\u001b[39m re\u001b[39m.\u001b[39msub(\u001b[39m\"\u001b[39m\u001b[39m(\u001b[39m\u001b[39m\\\u001b[39m\u001b[39m(.*\u001b[39m\u001b[39m\\\u001b[39m\u001b[39m))\u001b[39m\u001b[39m\"\u001b[39m, \u001b[39m\"\u001b[39m\u001b[39m\"\u001b[39m, part)\n\u001b[0;32m      <a href='vscode-notebook-cell:/c%3A/Users/Edan/Desktop/Code/130/GraphicalResourceForEnrollmentGuidance/scraping%20test%20scripts/test.ipynb#W3sZmlsZQ%3D%3D?line=8'>9</a>\u001b[0m \u001b[39mfor\u001b[39;00m major \u001b[39min\u001b[39;00m majors:\n\u001b[1;32m---> <a href='vscode-notebook-cell:/c%3A/Users/Edan/Desktop/Code/130/GraphicalResourceForEnrollmentGuidance/scraping%20test%20scripts/test.ipynb#W3sZmlsZQ%3D%3D?line=9'>10</a>\u001b[0m     \u001b[39mif\u001b[39;00m major \u001b[39min\u001b[39;00m part:\n\u001b[0;32m     <a href='vscode-notebook-cell:/c%3A/Users/Edan/Desktop/Code/130/GraphicalResourceForEnrollmentGuidance/scraping%20test%20scripts/test.ipynb#W3sZmlsZQ%3D%3D?line=10'>11</a>\u001b[0m         area \u001b[39m=\u001b[39m major\n\u001b[0;32m     <a href='vscode-notebook-cell:/c%3A/Users/Edan/Desktop/Code/130/GraphicalResourceForEnrollmentGuidance/scraping%20test%20scripts/test.ipynb#W3sZmlsZQ%3D%3D?line=11'>12</a>\u001b[0m         part \u001b[39m=\u001b[39m re\u001b[39m.\u001b[39msub(major, \u001b[39m\"\u001b[39m\u001b[39m\"\u001b[39m, part)\u001b[39m.\u001b[39mstrip()\n",
      "File \u001b[1;32m_pydevd_bundle/pydevd_cython.pyx:1363\u001b[0m, in \u001b[0;36m_pydevd_bundle.pydevd_cython.SafeCallWrapper.__call__\u001b[1;34m()\u001b[0m\n",
      "File \u001b[1;32m_pydevd_bundle/pydevd_cython.pyx:662\u001b[0m, in \u001b[0;36m_pydevd_bundle.pydevd_cython.PyDBFrame.trace_dispatch\u001b[1;34m()\u001b[0m\n",
      "File \u001b[1;32m_pydevd_bundle/pydevd_cython.pyx:1288\u001b[0m, in \u001b[0;36m_pydevd_bundle.pydevd_cython.PyDBFrame.trace_dispatch\u001b[1;34m()\u001b[0m\n",
      "File \u001b[1;32m_pydevd_bundle/pydevd_cython.pyx:1250\u001b[0m, in \u001b[0;36m_pydevd_bundle.pydevd_cython.PyDBFrame.trace_dispatch\u001b[1;34m()\u001b[0m\n",
      "File \u001b[1;32m_pydevd_bundle/pydevd_cython.pyx:297\u001b[0m, in \u001b[0;36m_pydevd_bundle.pydevd_cython.PyDBFrame.do_wait_suspend\u001b[1;34m()\u001b[0m\n",
      "File \u001b[1;32mc:\\Users\\Edan\\AppData\\Local\\Programs\\Python\\Python310\\lib\\site-packages\\debugpy\\_vendored\\pydevd\\pydevd.py:1976\u001b[0m, in \u001b[0;36mPyDB.do_wait_suspend\u001b[1;34m(self, thread, frame, event, arg, exception_type)\u001b[0m\n\u001b[0;32m   1973\u001b[0m             from_this_thread\u001b[39m.\u001b[39mappend(frame_custom_thread_id)\n\u001b[0;32m   1975\u001b[0m     \u001b[39mwith\u001b[39;00m \u001b[39mself\u001b[39m\u001b[39m.\u001b[39m_threads_suspended_single_notification\u001b[39m.\u001b[39mnotify_thread_suspended(thread_id, stop_reason):\n\u001b[1;32m-> 1976\u001b[0m         keep_suspended \u001b[39m=\u001b[39m \u001b[39mself\u001b[39;49m\u001b[39m.\u001b[39;49m_do_wait_suspend(thread, frame, event, arg, suspend_type, from_this_thread, frames_tracker)\n\u001b[0;32m   1978\u001b[0m frames_list \u001b[39m=\u001b[39m \u001b[39mNone\u001b[39;00m\n\u001b[0;32m   1980\u001b[0m \u001b[39mif\u001b[39;00m keep_suspended:\n\u001b[0;32m   1981\u001b[0m     \u001b[39m# This means that we should pause again after a set next statement.\u001b[39;00m\n",
      "File \u001b[1;32mc:\\Users\\Edan\\AppData\\Local\\Programs\\Python\\Python310\\lib\\site-packages\\debugpy\\_vendored\\pydevd\\pydevd.py:2011\u001b[0m, in \u001b[0;36mPyDB._do_wait_suspend\u001b[1;34m(self, thread, frame, event, arg, suspend_type, from_this_thread, frames_tracker)\u001b[0m\n\u001b[0;32m   2008\u001b[0m         \u001b[39mself\u001b[39m\u001b[39m.\u001b[39m_call_mpl_hook()\n\u001b[0;32m   2010\u001b[0m     \u001b[39mself\u001b[39m\u001b[39m.\u001b[39mprocess_internal_commands()\n\u001b[1;32m-> 2011\u001b[0m     time\u001b[39m.\u001b[39;49msleep(\u001b[39m0.01\u001b[39;49m)\n\u001b[0;32m   2013\u001b[0m \u001b[39mself\u001b[39m\u001b[39m.\u001b[39mcancel_async_evaluation(get_current_thread_id(thread), \u001b[39mstr\u001b[39m(\u001b[39mid\u001b[39m(frame)))\n\u001b[0;32m   2015\u001b[0m \u001b[39m# process any stepping instructions\u001b[39;00m\n",
      "\u001b[1;31mKeyboardInterrupt\u001b[0m: "
     ]
    }
   ],
   "source": [
    "for reqname, subreq in requirements.items():\n",
    "    for subreqname, value in subreq.items():\n",
    "        parts = value[\"classes\"].split(\",\")\n",
    "        value[\"classes\"] = []\n",
    "        area = None\n",
    "        for part in parts:\n",
    "            part = part.strip()\n",
    "            part = re.sub(\"(\\(.*\\))\", \"\", part)\n",
    "            for major in majors:\n",
    "                if major in part:\n",
    "                    area = major\n",
    "                    part = re.sub(major, \"\", part).strip()\n",
    "            value[\"classes\"].append((area, part))\n",
    "    "
   ]
  },
  {
   "cell_type": "code",
   "execution_count": 27,
   "metadata": {},
   "outputs": [
    {
     "data": {
      "text/plain": [
       "{'FILM AND TELEVISION B.A.PREPARATION FOR THE MAJOR': {'SIX LOWER DIVISION FILM AND TELEVISION COURSES': {'units': None,\n",
       "   'count': 6,\n",
       "   'classes': [('FILM TV', '4')]},\n",
       "  'ONE THEATER COURSE': {'units': None,\n",
       "   'count': 1,\n",
       "   'classes': [('THEATER', '10')]}},\n",
       " 'FILM AND TELEVISION B.A.REQUIREMENTS FOR THE MAJOR': {'FILM AND TELEVISION 101A': {'units': None,\n",
       "   'count': 1,\n",
       "   'classes': [('FILM TV', '101A')]},\n",
       "  'FILM AND TELEVISION 106B OR 106C': {'units': None,\n",
       "   'count': 1,\n",
       "   'classes': [('FILM TV', '106B')]},\n",
       "  'FILM AND TELEVISION 134, 150, 154, 155, AND 163': {'units': None,\n",
       "   'count': 5,\n",
       "   'classes': [('FILM TV', '134')]},\n",
       "  'ONE CINEMA AND MEDIA STUDIES ELECTIVE': {'units': None,\n",
       "   'count': 1,\n",
       "   'classes': [('FILM TV', '107')]},\n",
       "  'ONE CAPSTONE DEPARTMENTALLY SPONSORED INTERNSHIPFILM AND TELEVISION 194 AND 195CE OR 195(195/195CE must be taken concurrently with 194)': {'units': None,\n",
       "   'count': 2,\n",
       "   'classes': [('FILM TV', '194')]},\n",
       "  'ONE CAPSTONE DEPARTMENTALLY SPONSORED INTERNSHIPFILM AND TELEVISION 199 (FALL 2020 THRU SPRING 2022)': {'units': None,\n",
       "   'count': 1,\n",
       "   'classes': [('FILM TV', '199')]}},\n",
       " 'FILM AND TELEVISION B.A.CONCENTRATION FOR THE MAJORTWENTY UNITS OF ADVANCED FILM COURSEWORK FROM ONE OR MOREAREAS OF STUDY, INCLUDING AT LEAST TWO COURSES SELECTEDFROM WITHIN ONE AREA:': {'TWO COURSES SELECTED FROM WITHIN ONE CONCENTRATION AREA': {'units': None,\n",
       "   'count': 2,\n",
       "   'classes': [('FILM TV', 'CINEMA&MEDIA :  106B'),\n",
       "    ('MED', 'CINEMA&IA :  106B'),\n",
       "    ('FILM TV', '128 PRODUCTION :  C118'),\n",
       "    ('FILM TV', 'C186B'),\n",
       "    ('FILM TV', 'C186C SCREENWRITING :  135A'),\n",
       "    ('FILM TV', '135C PRODUCING :  146'),\n",
       "    ('FILM TV', '184B ANIMATION :  C181A'),\n",
       "    ('FILM TV', 'C181C DIGITAL MEDIA :  C142'),\n",
       "    ('MED', 'C181C DIGITAL IA :  C142')]},\n",
       "  'ADDITIONAL CONCENTRATION AREA COURSES': {'units': 20,\n",
       "   'count': None,\n",
       "   'classes': [('FILM TV', 'CINEMA&MEDIA :  106B'),\n",
       "    ('MED', 'CINEMA&IA :  106B'),\n",
       "    ('FILM TV', '128 PRODUCTION :  C118'),\n",
       "    ('FILM TV', 'C186B'),\n",
       "    ('FILM TV', 'C186C SCREENWRITING :  135A'),\n",
       "    ('FILM TV', '135C PRODUCING :  146'),\n",
       "    ('FILM TV', '184B ANIMATION :  C181A'),\n",
       "    ('FILM TV', 'C181C DIGITAL MEDIA :  C142'),\n",
       "    ('MED', 'C181C DIGITAL IA :  C142')]}},\n",
       " 'MINIMUM 180 UC UNITS FOR A UCLA DEGREE': {}}"
      ]
     },
     "execution_count": 27,
     "metadata": {},
     "output_type": "execute_result"
    }
   ],
   "source": [
    "requirements"
   ]
  },
  {
   "cell_type": "code",
   "execution_count": 11,
   "metadata": {},
   "outputs": [
    {
     "name": "stdout",
     "output_type": "stream",
     "text": [
      "COM SCI 111 TO 187\n",
      "COM SCI 188\n",
      "COM SCI C111 TO C174\n",
      "COM SCI M119 TO M182\n",
      "COM SCI M184\n",
      "COM SCI CM121 TO CM187\n",
      "COM SCI M185\n"
     ]
    }
   ],
   "source": [
    "parts = b.split(\",\")\n",
    "area = None\n",
    "for part in parts:\n",
    "    part = part.strip()\n",
    "    part = re.sub(\"(\\(.*\\))\", \"\", part)\n",
    "    for major in majors:\n",
    "        if major in part:\n",
    "            area = major\n",
    "            part = re.sub(major, \"\", part).strip()\n",
    "    # re.findall(\"([A-Z]?\\d{2,3}[A-Z]?)\", part)\n",
    "    print(area, part)"
   ]
  }
 ],
 "metadata": {
  "kernelspec": {
   "display_name": "Python 3",
   "language": "python",
   "name": "python3"
  },
  "language_info": {
   "codemirror_mode": {
    "name": "ipython",
    "version": 3
   },
   "file_extension": ".py",
   "mimetype": "text/x-python",
   "name": "python",
   "nbconvert_exporter": "python",
   "pygments_lexer": "ipython3",
   "version": "3.10.8"
  }
 },
 "nbformat": 4,
 "nbformat_minor": 2
}
