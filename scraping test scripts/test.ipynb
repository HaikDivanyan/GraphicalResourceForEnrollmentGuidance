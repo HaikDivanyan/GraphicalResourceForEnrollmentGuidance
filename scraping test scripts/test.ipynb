{
 "cells": [
  {
   "cell_type": "code",
   "execution_count": 12,
   "metadata": {},
   "outputs": [],
   "source": [
    "from bs4 import BeautifulSoup\n",
    "import re"
   ]
  },
  {
   "cell_type": "code",
   "execution_count": 46,
   "metadata": {},
   "outputs": [],
   "source": [
    "with open(\"dar.html\") as f:\n",
    "    dar = BeautifulSoup(f)"
   ]
  },
  {
   "cell_type": "code",
   "execution_count": 47,
   "metadata": {},
   "outputs": [],
   "source": [
    "requirements = {}\n",
    "l = []\n",
    "for reqHTML in dar.findAll(\"div\", \"Status_NO\"):\n",
    "    classes = []\n",
    "    reqname = re.sub('[ \\n]+', \" \", str(reqHTML.find(\"div\", \"reqTitle\").get_text()).strip())\n",
    "    requirements[reqname] = {}\n",
    "    for subreqHTML in reqHTML.findAll(\"div\", \"subrequirement\"):\n",
    "        statHTML = subreqHTML.find(\"span\", \"Status_NO\")\n",
    "        if (statHTML is not None):\n",
    "            subreqname = re.sub('[ \\n]+', \" \", str(subreqHTML.find(\"span\", \"subreqTitle\").get_text()).strip())\n",
    "            needsHTML = subreqHTML.find(\"table\", \"subreqNeeds\")\n",
    "            if (needsHTML is not None):\n",
    "                units, count = None, None\n",
    "                if (needsHTML.find(\"td\", \"hours\") is not None):\n",
    "                    units = int(float(str(needsHTML.find(\"td\", \"hours\").next)))\n",
    "                if (needsHTML.find(\"td\", \"count\") is not None):\n",
    "                    count = int(float(str(needsHTML.find(\"td\", \"count\").next)))\n",
    "\n",
    "                selectHTML = subreqHTML.find(\"table\", \"selectcourses\")\n",
    "                if (selectHTML is not None):\n",
    "                    ht = selectHTML.find(\"td\", \"fromcourselist\")\n",
    "                    a = re.sub('[ \\n]+', \" \", ht.get_text())\n",
    "                    requirements[reqname][subreqname] = a"
   ]
  },
  {
   "cell_type": "code",
   "execution_count": 48,
   "metadata": {},
   "outputs": [
    {
     "data": {
      "text/plain": [
       "{'COMPUTER SCIENCE REQUIRED COURSES': {'TWENTY UNITS OF AT LEAST 5 COMPUTER SCIENCE ELECTIVESFROM COMPUTER SCIENCE 111 THROUGH 188': ' COM SCI 111 TO 187,188(FA21-9999),C111 TO C174,M119 TO M182,M184,CM121 TO CM187, COM SCI M185 '},\n",
       " 'TECHNICAL BREADTH REQUIREMENT[Declare TBA at: http://my.engineering.ucla.edu]You are responsible to check your TBA requirement here:http://www.seasoasa.ucla.edu/undergraduates/undergraduate-technical-breadth-area-tbaSELECT THREE COURSES FROM ONE TECHNICAL BREADTH AREA (TBA)': {'DIGITAL HUMANITIES TBA': ' DGT HUM 110(FA21-9999),120(FA23-9999),125(FA21-9999),131(FA21-9999), DGT HUM 140(FA21-9999),M145(FA21-9999) '}}"
      ]
     },
     "execution_count": 48,
     "metadata": {},
     "output_type": "execute_result"
    }
   ],
   "source": [
    "requirements"
   ]
  }
 ],
 "metadata": {
  "kernelspec": {
   "display_name": "Python 3",
   "language": "python",
   "name": "python3"
  },
  "language_info": {
   "codemirror_mode": {
    "name": "ipython",
    "version": 3
   },
   "file_extension": ".py",
   "mimetype": "text/x-python",
   "name": "python",
   "nbconvert_exporter": "python",
   "pygments_lexer": "ipython3",
   "version": "0.0.0"
  }
 },
 "nbformat": 4,
 "nbformat_minor": 2
}
